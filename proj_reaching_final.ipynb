{
 "cells": [
  {
   "cell_type": "code",
   "execution_count": 8,
   "metadata": {},
   "outputs": [],
   "source": [
    "import numpy as np\n",
    "import cv2\n",
    "import numpy as np\n",
    "import matplotlib.pyplot as plt\n",
    "import signal\n",
    "import seaborn as sns\n",
    "from scipy.fft import fft\n",
    "from matplotlib import collections as matcoll\n",
    "from mpl_toolkits.mplot3d import Axes3D\n",
    "import matplotlib as mpl\n",
    "from sklearn.preprocessing import normalize\n",
    "from progressbar import *\n",
    "from functools import reduce\n",
    "import gc\n",
    "from sklearn.cluster import KMeans\n",
    "import pandas as pd\n",
    "from sklearn.model_selection import train_test_split\n",
    "from sklearn.preprocessing import OneHotEncoder\n",
    "import socketio\n",
    "import eventlet\n",
    "import eventlet.wsgi\n",
    "from flask import Flask\n",
    "import base64\n",
    "from numpy import genfromtxt\n",
    "import time\n",
    "import random\n",
    "from scipy import stats"
   ]
  },
  {
   "cell_type": "code",
   "execution_count": 9,
   "metadata": {},
   "outputs": [],
   "source": [
    "#The modula for visual processing\n",
    "class retina_parallel():\n",
    "    def __init__(self, l_name, r_name, F_size=[20,20], _S=15):\n",
    "        self.gl = self.retina_image(l_name)\n",
    "        self.gr = self.retina_image(r_name)\n",
    "        self.N = self.gl.shape[0]\n",
    "        self.L = self.gl.shape[1]\n",
    "        self.Fw = F_size[0]\n",
    "        self.Fh = F_size[1]\n",
    "        self.S = _S\n",
    "        self.Pl = self.Fw - 1\n",
    "        self.Pn = self.Fh - self.N%self.S\n",
    "        self.Ph = int(self.N/self.S)\n",
    "    #Transfer the image to gray scale\n",
    "    def retina_image(self, name):\n",
    "        img = cv2.imread(name)\n",
    "        img_lum = 0.2126*img[:,:,0] + 0.7152*img[:,:,1] + 0.0722*img[:,:,2]\n",
    "        return img_lum   \n",
    "    #Return the spatial-frequency responses\n",
    "    def premap(self,_ip0,_ip1,_ip2,_ip3,_im0,_im1,_N,_Pl,_Pn,_L,_pmap_e,_g):\n",
    "        pmap = np.concatenate((_g,np.zeros((_N,_Pl))),axis=1)\n",
    "        pmap = np.concatenate((pmap,np.zeros((_Pn,_L+_Pl))),axis=0)\n",
    "        _pmap_e[_ip0,_ip1,_ip2,_ip3] = pmap[_im0,_im1]\n",
    "        return np.fft.fftn(_pmap_e, axes=(2, 3,)) \n",
    "    #Binocular correspondence\n",
    "    def compmap(self,map_l,map_r,_L):\n",
    "        paired = {}\n",
    "        for i in range(_L):\n",
    "            paired[i]='y'\n",
    "\n",
    "        pair_r = np.zeros(_L)\n",
    "        for i in range(_L):\n",
    "            min_r = np.sum(np.abs(map_l[i,:,:]-map_r[0,:,:]))\n",
    "            min_jr = 0\n",
    "            for j in range(_L):\n",
    "                if paired[j] == 'y':\n",
    "                    cmp = np.sum(np.abs(map_l[i,:,:]-map_r[j,:,:]))\n",
    "                    if cmp<=min_r:\n",
    "                        min_r = cmp\n",
    "                        min_jr = j\n",
    "            pair_r[i] = min_jr\n",
    "            paired[min_jr] = 'n'\n",
    "        return pair_r    \n",
    "    #Define equations of Ding-Sperling model\n",
    "    def diff_a(self,l):\n",
    "        return np.hstack((np.diff(l),np.array([0])))\n",
    "    \n",
    "    def sf_filter_i(self,d):\n",
    "        l = np.array(range(200))\n",
    "        return -(1-np.square(l)/np.square(d))*np.exp(-0.5*np.square(l)/np.square(d))/(np.pi*np.square(d))\n",
    "    \n",
    "    def w_lum_c(self,l):\n",
    "        r0 = 0.1*l/180\n",
    "        l = np.array(range(l))\n",
    "        return 1/(1+np.square(l)/np.square(r0))\n",
    "\n",
    "    def lum_sum_w(self,row):    \n",
    "        bi = 1\n",
    "        k = 1\n",
    "        I = row\n",
    "        I0 = np.sum(I)\n",
    "        cx = self.diff_a(self.diff_a(I))/I0\n",
    "        eri = []\n",
    "        for di in np.arange(5,50,5):\n",
    "            logi = self.sf_filter_i(di)\n",
    "            c = np.convolve(I,logi)/I0\n",
    "            er = bi*np.sum(c*self.w_lum_c(len(c)))\n",
    "            eri.append(er)\n",
    "        E = sum(eri)\n",
    "        L = k*np.sum(I*self.w_lum_c(len(I)))\n",
    "        return E*L\n",
    "    #Target detection at the begining of the trial when the end-effector is not visible \n",
    "    def find_one(self,c,d):\n",
    "        csf = np.array([[0,0,0.5,0,0],[0,0,1,0,0],[0.5,1,-6,1,0.5],[0,0,1,0,0],[0,0,0.5,0,0]])\n",
    "        o = np.zeros((c.shape[0],c.shape[1]))\n",
    "        _c = np.concatenate((c,np.zeros((c.shape[0],4))),axis=1)\n",
    "        _c = np.concatenate((_c,np.zeros((4,_c.shape[1]))),axis=0)\n",
    "        for i in range(o.shape[0]):\n",
    "            for j in range(o.shape[1]):\n",
    "                o[i,j] = np.sum(_c[i:i+5,j:j+5]*csf)\n",
    "        o = o.astype(np.uint8)\n",
    "        g = cv2.GaussianBlur(o, (5, 5), 0)\n",
    "        g[g<130]=0\n",
    "        k=5\n",
    "        ki = g.shape[0]-k\n",
    "        kj = g.shape[1]-k\n",
    "        o2 = []\n",
    "        for i in range(ki):\n",
    "            for j in range(kj):\n",
    "                zone = g[i:i+k,j:j+k]\n",
    "                pos = np.where(zone>0)\n",
    "                if len(pos[1])>0:\n",
    "                    px = int(np.mean(pos[0]))+i\n",
    "                    py = int(np.mean(pos[1]))+j\n",
    "                    if np.mean(zone)>=100:\n",
    "                        o2.append([px,py]) \n",
    "        o2 = np.array(o2)\n",
    "        o2 = np.mean(o2,axis=0)\n",
    "        return np.array([int(o2[0]),int(o2[1]),d[int(o2[0]),int(o2[1])]])\n",
    "    #Localization of the target and the end-effector\n",
    "    def find_two(self,c,d,ppos):\n",
    "        csf = np.array([[0,0,0.5,0,0],[0,0,1,0,0],[0.5,1,-6,1,0.5],[0,0,1,0,0],[0,0,0.5,0,0]])\n",
    "        o = np.zeros((c.shape[0],c.shape[1]))\n",
    "        _c = np.concatenate((c,np.zeros((c.shape[0],4))),axis=1)\n",
    "        _c = np.concatenate((_c,np.zeros((4,_c.shape[1]))),axis=0)\n",
    "        for i in range(o.shape[0]):\n",
    "            for j in range(o.shape[1]):\n",
    "                o[i,j] = np.sum(_c[i:i+5,j:j+5]*csf)\n",
    "        o = o.astype(np.uint8)\n",
    "        g = cv2.GaussianBlur(o, (5, 5), 0)\n",
    "        g[g<130]=0\n",
    "        k=5\n",
    "        ki = g.shape[0]-k\n",
    "        kj = g.shape[1]-k\n",
    "        o2 = []\n",
    "        for i in range(ki):\n",
    "            for j in range(kj):\n",
    "                zone = g[i:i+k,j:j+k]\n",
    "                pos = np.where(zone>0)\n",
    "                if len(pos[1])>0:\n",
    "                    px = int(np.mean(pos[0]))+i\n",
    "                    py = int(np.mean(pos[1]))+j\n",
    "                    if np.mean(zone)>=100:\n",
    "                        o2.append([px,py]) \n",
    "        o2 = np.array(o2)\n",
    "        kmodel = KMeans(n_clusters = 2, max_iter=500) \n",
    "        kmodel.fit(o2)\n",
    "        of = np.array([int(ppos[0]),int(ppos[1])])\n",
    "        r = kmodel.cluster_centers_\n",
    "        lbs = list(kmodel.labels_)\n",
    "        if sum(lbs)<0.2*len(lbs):\n",
    "            o3 = []\n",
    "            for i in range(o2.shape[0]):\n",
    "                if np.linalg.norm(o2[i]-r[0])<70:\n",
    "                    o3.append(o2[i])\n",
    "            o3 = np.array(o3)   \n",
    "            kmodel = KMeans(n_clusters = 2, max_iter=500) \n",
    "            kmodel.fit(o3)\n",
    "            r = kmodel.cluster_centers_      \n",
    "        elif sum(lbs)>0.8*len(lbs):\n",
    "            o3 = []\n",
    "            for i in range(o2.shape[0]):\n",
    "                if np.linalg.norm(o2[i]-r[1])<70:\n",
    "                    o3.append(o2[i])\n",
    "            o3 = np.array(o3)   \n",
    "            kmodel = KMeans(n_clusters = 2, max_iter=500) \n",
    "            kmodel.fit(o3)\n",
    "            r = kmodel.cluster_centers_\n",
    "      \n",
    "        if np.linalg.norm(r[0]-of) < np.linalg.norm(r[1]-of):\n",
    "            return np.array([int(r[0][0]),int(r[0][1]),d[int(r[0][0]),int(r[0][1])]]),np.array([int(r[1][0]),int(r[1][1]),d[int(r[1][0]),int(r[1][1])]])\n",
    "        else:\n",
    "            return np.array([int(r[1][0]),int(r[1][1]),d[int(r[1][0]),int(r[1][1])]]),np.array([int(r[0][0]),int(r[0][1]),d[int(r[0][0]),int(r[0][1])]])\n",
    "    #Mark an location with small white circle\n",
    "    def mark(self,img,pos,text):\n",
    "        cv2.rectangle(img,(int(pos[1]-5),int(pos[0]-5)),(int(pos[1]+5),int(pos[0]+5)),(255,0,0),3)\n",
    "        font = cv2.FONT_HERSHEY_SIMPLEX\n",
    "        cv2.putText(img, text, (int(pos[1]+5),int(pos[0]+5)), font, 0.5, (255,0,0), 1)\n",
    "        return img\n",
    "\n",
    "    def main(self):\n",
    "        ip0 = reduce(lambda x, y:x+y, [[i]*self.Fw*self.Fh for i in range(self.L)])*self.Ph\n",
    "        ip1 = reduce(lambda x, y:x+y, [[i]*self.Fw*self.Fh*self.L for i in range(self.Ph)])\n",
    "        ip2 = reduce(lambda x, y:x+y, [[i]*self.Fw for i in range(self.Fh)])*self.L*self.Ph\n",
    "        ip3 = list(range(self.Fw))*self.L*self.Ph*self.Fh\n",
    "        im0 = np.array(ip2) + np.array(reduce(lambda x, y:x+y, [[i*self.S]*self.L*self.Fh*self.Fw for i in range(self.Ph)]))\n",
    "        im1 = reduce(lambda x, y:x+y, [list(range(i,self.Fw+i))*self.Fh for i in range(self.L)])*self.Ph\n",
    "        pmap_ept = np.zeros((self.L,self.Ph,self.Fh,self.Fw))\n",
    "        lmap = self.premap(ip0,ip1,ip2,ip3,im0,im1,self.N,self.Pl,self.Pn,self.L,pmap_ept,self.gl)\n",
    "        rmap = self.premap(ip0,ip1,ip2,ip3,im0,im1,self.N,self.Pl,self.Pn,self.L,pmap_ept,self.gr)\n",
    "        del ip0,ip1,ip2,ip3,im0,im1,pmap_ept\n",
    "        gc.collect()\n",
    "        c_image = np.zeros((self.N,self.L))\n",
    "        d_image = np.zeros((self.N,self.L))\n",
    "        \n",
    "       # widgets = ['Progress: ',Percentage(), ' ', Bar('#'),' ', Timer(),\n",
    "        #   ' ', ETA(), ' ', FileTransferSpeed()]\n",
    "        #pbar = ProgressBar(widgets=widgets, maxval=10*self.Ph).start()\n",
    "\n",
    "        for i in range(self.Ph):\n",
    "         #   pbar.update(10 * i + 1)\n",
    "            pr = self.compmap(lmap[:,i,:,:],rmap[:,i,:,:],self.L)\n",
    "            pr = pr.astype(int)\n",
    "            wl = []\n",
    "            wr = []\n",
    "            dpth = []\n",
    "            for j in range(self.L):    \n",
    "                ell = self.lum_sum_w(self.gl[:,j])\n",
    "                elr = self.lum_sum_w(self.gr[:,pr[j]])\n",
    "                wl.append(ell/(ell+elr))\n",
    "                wr.append(elr/(ell+elr))\n",
    "                _min = min(self.L-j,pr[j])\n",
    "                _max = max(self.L-j,pr[j])\n",
    "                dpth.append(1.414*_min+(_max-_min)/1.414)\n",
    "            c_image[i*self.S:i*self.S+self.S,range(self.L)] = wl*self.gl[i*self.S:i*self.S+self.S,range(self.L)]+wr*self.gr[i*self.S:i*self.S+self.S,pr]  \n",
    "            d_image[i*self.S:i*self.S+self.S,range(self.L)] = np.array([dpth]).repeat(self.S,axis=0)\n",
    "        #pbar.finish()    \n",
    "        c_image[self.Ph*self.S:,range(self.L)] = self.gl[self.Ph*self.S:,range(self.L)] \n",
    "        return c_image.astype(np.uint8),d_image\n",
    "\n"
   ]
  },
  {
   "cell_type": "code",
   "execution_count": 4,
   "metadata": {},
   "outputs": [
    {
     "name": "stderr",
     "output_type": "stream",
     "text": [
      "Progress: 100% || Elapsed Time: 1 day, 12:26:00 Time: 1 day, 12:26:00   0.4 B/s\n"
     ]
    }
   ],
   "source": [
    "#extract the position information from all the training images\n",
    "rt = []\n",
    "widgets = ['Progress: ',Percentage(), ' ', Bar('#'),' ', Timer(),\n",
    "           ' ', ETA(), ' ', FileTransferSpeed()]\n",
    "pbar = ProgressBar(widgets=widgets, maxval=10*5400).start()\n",
    "for i in range(5400):\n",
    "    pbar.update(10 * (i-0) + 1)\n",
    "    pro = retina_parallel('./test_pic_m2/'+str(i)+'l.png','./test_pic_m2/'+str(i)+'r.png')\n",
    "    c,d = pro.main()\n",
    "    pos = pro.find_one(c,d)\n",
    "    rt.append(pos)\n",
    "pbar.finish()  "
   ]
  },
  {
   "cell_type": "code",
   "execution_count": 5,
   "metadata": {},
   "outputs": [],
   "source": [
    "np.savetxt('move_m2',np.array(rt))"
   ]
  },
  {
   "cell_type": "code",
   "execution_count": 7,
   "metadata": {},
   "outputs": [
    {
     "data": {
      "image/png": "[encoded data removed]",
      "text/plain": [
       "<Figure size 432x288 with 1 Axes>"
      ]
     },
     "metadata": {
      "needs_background": "light"
     },
     "output_type": "display_data"
    }
   ],
   "source": [
    "#show all the sampled locations during training\n",
    "fig=plt.figure()\n",
    "ax=Axes3D(fig)\n",
    "\n",
    "ax.scatter(rt[:,0],rt[:,1],rt[:,2],marker=\"*\")\n",
    "\n",
    "\n",
    "\n",
    "ax.view_init(elev=45., azim=0.)\n",
    "\n",
    "plt.show()"
   ]
  },
  {
   "cell_type": "code",
   "execution_count": 8,
   "metadata": {},
   "outputs": [
    {
     "data": {
      "text/plain": [
       "[<matplotlib.lines.Line2D at 0x1b89d7db508>]"
      ]
     },
     "execution_count": 8,
     "metadata": {},
     "output_type": "execute_result"
    },
    {
     "data": {
      "image/png": "[encoded data removed]",
      "text/plain": [
       "<Figure size 432x288 with 1 Axes>"
      ]
     },
     "metadata": {},
     "output_type": "display_data"
    }
   ],
   "source": [
    "#plot the tunning curve\n",
    "x = np.array(list(range(180)))\n",
    "x[x>90]=90\n",
    "y = 1-x/90\n",
    "#y=np.exp(-0.001*x**2)\n",
    "plt.plot(x,y)"
   ]
  },
  {
   "cell_type": "code",
   "execution_count": 18,
   "metadata": {},
   "outputs": [],
   "source": [
    "#joint configurations sampled during training \n",
    "resmt = 6\n",
    "rgmt0 = 9\n",
    "rgmt1 = 10\n",
    "rgmt2 = 4\n",
    "rgmt3 = 15\n",
    "sclmt0 = 25\n",
    "sclmt1 = 65\n",
    "sclmt2 = 2\n",
    "sclmt3 = 4\n",
    "\n",
    "mm=[]\n",
    "for i in range(rgmt0):\n",
    "    for j in range(rgmt1):\n",
    "        for k in range(rgmt2):\n",
    "            for l in range(rgmt3):\n",
    "                mm.append([-i*resmt-sclmt0,j*resmt+sclmt1,k*resmt+sclmt2,l*resmt+sclmt3])\n",
    "mm = np.array(mm)   "
   ]
  },
  {
   "cell_type": "code",
   "execution_count": 7,
   "metadata": {},
   "outputs": [],
   "source": [
    "#add noise\n",
    "mm = mm + np.random.rand(mm.shape[0],mm.shape[1])*5"
   ]
  },
  {
   "cell_type": "code",
   "execution_count": 20,
   "metadata": {},
   "outputs": [],
   "source": [
    "#define the direction selective property\n",
    "arfa = np.arange(20,360,20)\n",
    "beta = np.arange(20,180,20)\n",
    "sphere = []\n",
    "afbt = []\n",
    "for i in range(len(arfa)):\n",
    "    for j in range(len(beta)):\n",
    "        vx = np.sin(beta[j]*np.pi/180)*np.cos(arfa[i]*np.pi/180)\n",
    "        vy = np.sin(beta[j]*np.pi/180)*np.sin(arfa[i]*np.pi/180)\n",
    "        vz = np.cos(beta[j]*np.pi/180)\n",
    "        sphere.append([vx,vy,vz])\n",
    "        afbt.append((i**2+j**2)**0.5)\n",
    "sphere = np.array(sphere)"
   ]
  },
  {
   "cell_type": "code",
   "execution_count": 21,
   "metadata": {},
   "outputs": [],
   "source": [
    "#randomize the training\n",
    "random.seed(10)\n",
    "repnum = list(range(mm.shape[0]))\n",
    "random.shuffle(repnum)\n",
    "repnum = repnum[0:5400]"
   ]
  },
  {
   "cell_type": "code",
   "execution_count": 24,
   "metadata": {},
   "outputs": [],
   "source": [
    "rt = np.loadtxt('move_m2')\n",
    "img = cv2.imread('./test_pic_m2/0l.png')"
   ]
  },
  {
   "cell_type": "code",
   "execution_count": 25,
   "metadata": {},
   "outputs": [
    {
     "name": "stderr",
     "output_type": "stream",
     "text": [
      "Progress: 100% |###############| Elapsed Time: 0:29:03 Time:  0:29:03   3.1 B/s\n"
     ]
    }
   ],
   "source": [
    "#training\n",
    "N = img.shape[0]\n",
    "L = img.shape[1]\n",
    "D = img.shape[0]\n",
    "O = sphere.shape[0]\n",
    "T = mm.shape[1]\n",
    "gamma = 1\n",
    "ita = 0.1\n",
    "resok = 10\n",
    "\n",
    "W = np.zeros((rgmt0,rgmt1,rgmt2,rgmt3,O,T))\n",
    "K = np.zeros((int(N/resok)+1,int(L/resok)+1,int(D/resok)+1,T))\n",
    "contk = np.zeros((int(N/resok)+1,int(L/resok)+1,int(D/resok)+1,T))\n",
    "\n",
    "\n",
    "\n",
    "widgets = ['Progress: ',Percentage(), ' ', Bar('#'),' ', Timer(),\n",
    "           ' ', ETA(), ' ', FileTransferSpeed()]\n",
    "pbar = ProgressBar(widgets=widgets, maxval=len(repnum)).start()\n",
    "counter=0\n",
    "for t in repnum:\n",
    "    pbar.update(counter + 1)\n",
    "    armt = rt[t]\n",
    "    if armt[2]>N:\n",
    "        armt[2] = N \n",
    "    for t1 in repnum:\n",
    "        armt1 = rt[t1]\n",
    "        if armt1[2]>N:\n",
    "            armt1[2] = N \n",
    "        ds = armt1 - armt\n",
    "        d_theta = mm[t1]-mm[t]\n",
    "        if any(ds!=np.array([0,0,0])):\n",
    "            v = (ds/np.linalg.norm(ds)).reshape(3,1)\n",
    "            ck = (np.arccos(sphere.dot(v))*180/np.pi)\n",
    "            ck[ck>90]=90\n",
    "            #ck = 1-ck/90\n",
    "            ck = np.exp(-0.001*ck**2)\n",
    "            d_w = gamma*np.dot(ck,d_theta.reshape(1,4))-gamma*ita*ck.repeat(4,axis=1)*W[int((-mm[t,0]-sclmt0)/resmt),int((mm[t,1]-sclmt1)/resmt),int((mm[t,2]-sclmt2)/resmt),int((mm[t,3]-sclmt3)/resmt),:,:]\n",
    "            W[int((-mm[t,0]-sclmt0)/resmt),int((mm[t,1]-sclmt1)/resmt),int((mm[t,2]-sclmt2)/resmt),int((mm[t,3]-sclmt3)/resmt),:,:] += d_w\n",
    "    K[int(armt[0]/resok),int(armt[1]/resok),int(armt[2]/resok),:]+=mm[t]\n",
    "    contk[int(armt[0]/resok),int(armt[1]/resok),int(armt[2]/resok),:]+=1\n",
    "    counter+=1\n",
    "contk[contk==0]=1    \n",
    "K = K/contk\n",
    "pbar.finish()  "
   ]
  },
  {
   "cell_type": "code",
   "execution_count": 30,
   "metadata": {},
   "outputs": [],
   "source": [
    "Kdense = np.where(K!=0)\n",
    "Kdense = np.array([Kdense[0],Kdense[1],Kdense[2]]).T\n",
    "Kdense = np.unique(Kdense,axis=0)"
   ]
  },
  {
   "cell_type": "code",
   "execution_count": 31,
   "metadata": {},
   "outputs": [],
   "source": [
    "#save trainned synaptical weights\n",
    "np.save(file=\"wmatrix2.npy\", arr=W)\n",
    "np.save(file=\"kmatrix2.npy\", arr=Kdense)\n",
    "np.save(file=\"kmatrixraw.npy\", arr=K)"
   ]
  },
  {
   "cell_type": "code",
   "execution_count": 10,
   "metadata": {},
   "outputs": [],
   "source": [
    "Kdense = np.load(\"kmatrix2.npy\")\n",
    "W = np.load(\"wmatrix2.npy\")\n",
    "K = np.load(\"kmatrixraw.npy\")"
   ]
  },
  {
   "cell_type": "code",
   "execution_count": 15,
   "metadata": {},
   "outputs": [],
   "source": [
    "resok = 10\n",
    "resmt = 6"
   ]
  },
  {
   "cell_type": "code",
   "execution_count": 27,
   "metadata": {},
   "outputs": [],
   "source": [
    "#set the resolution and determine neural activation rules\n",
    "def kout(pos):\n",
    "    _n = int(pos[0]/resok)\n",
    "    _l = int(pos[1]/resok)\n",
    "    _d = int(pos[2]/resok)\n",
    "    if all(K[_n,_l,_d,:]==np.array([0,0,0,0])):\n",
    "        dist = np.dot(np.array([[_n,_l,_d]]),Kdense.T)[0]\n",
    "        im = Kdense[np.argmax(dist)]\n",
    "        return K[im[0],im[1],im[2],:]\n",
    "    else:\n",
    "        return K[_n,_l,_d,:]\n",
    "\n",
    "\n",
    "def rwout(theta,dv):\n",
    "    t1 = int((-theta[0]-sclmt0)/resmt)\n",
    "    t2 = int((theta[1]-sclmt1)/resmt)\n",
    "    t3 = int((theta[2]-sclmt2)/resmt)\n",
    "    t4 = int((theta[3]-sclmt3)/resmt)\n",
    "    _v = (dv/np.linalg.norm(dv)).reshape(3,1)\n",
    "    _ck = (np.arccos(sphere.dot(_v))*180/np.pi).T[0]\n",
    "    _o = int(np.argmin(_ck))\n",
    "    return W[t1,t2,t3,t4,_o,:]\n",
    "\n",
    "def array_to_str(s):\n",
    "    t = \"\"\n",
    "    for i in range(3):\n",
    "        t=t+str(s[i])+\"#\"\n",
    "    t=t+str(s[3])    \n",
    "    return t      "
   ]
  },
  {
   "cell_type": "code",
   "execution_count": 31,
   "metadata": {},
   "outputs": [
    {
     "name": "stderr",
     "output_type": "stream",
     "text": [
      "(11340) wsgi starting up on http://0.0.0.0:4567\n",
      "(11340) accepted ('127.0.0.1', 51867)\n"
     ]
    },
    {
     "name": "stdout",
     "output_type": "stream",
     "text": [
      "connect  af2f55806c5f4269b6a4ee468e2cb765\n",
      "got\n",
      "ready\n",
      "got\n",
      "ready\n",
      "got\n",
      "ready\n",
      "got\n",
      "ready\n",
      "got\n",
      "ready\n",
      "got\n",
      "ready\n",
      "got\n",
      "ready\n",
      "got\n",
      "ready\n",
      "got\n",
      "ready\n",
      "got\n",
      "ready\n",
      "got\n",
      "ready\n",
      "got\n",
      "ready\n",
      "got\n",
      "ready\n",
      "got\n",
      "ready\n",
      "got\n",
      "ready\n",
      "got\n",
      "ready\n",
      "got\n",
      "ready\n",
      "got\n",
      "ready\n",
      "got\n",
      "ready\n",
      "got\n",
      "ready\n",
      "got\n",
      "ready\n",
      "got\n",
      "ready\n",
      "got\n",
      "ready\n",
      "got\n",
      "ready\n",
      "got\n",
      "ready\n",
      "got\n",
      "ready\n",
      "got\n",
      "ready\n",
      "got\n",
      "ready\n",
      "got\n",
      "ready\n",
      "got\n",
      "ready\n",
      "got\n",
      "ready\n",
      "got\n",
      "ready\n",
      "got\n",
      "ready\n",
      "got\n",
      "ready\n",
      "got\n",
      "ready\n",
      "got\n",
      "ready\n",
      "got\n",
      "ready\n",
      "got\n",
      "ready\n",
      "got\n",
      "ready\n",
      "got\n",
      "ready\n",
      "got\n",
      "ready\n",
      "got\n",
      "ready\n",
      "got\n",
      "ready\n",
      "got\n",
      "ready\n",
      "got\n",
      "ready\n",
      "got\n",
      "ready\n",
      "got\n",
      "ready\n",
      "got\n",
      "ready\n",
      "got\n",
      "ready\n",
      "got\n",
      "ready\n",
      "got\n",
      "ready\n",
      "got\n",
      "ready\n",
      "got\n",
      "ready\n",
      "got\n",
      "ready\n",
      "got\n",
      "ready\n",
      "got\n",
      "ready\n",
      "got\n",
      "ready\n",
      "got\n",
      "ready\n",
      "got\n",
      "ready\n",
      "got\n",
      "ready\n",
      "got\n",
      "ready\n",
      "got\n",
      "ready\n",
      "got\n",
      "ready\n",
      "got\n",
      "ready\n",
      "got\n",
      "ready\n",
      "got\n",
      "ready\n",
      "got\n",
      "ready\n",
      "got\n",
      "ready\n",
      "got\n",
      "ready\n",
      "got\n",
      "ready\n",
      "got\n",
      "ready\n",
      "got\n",
      "ready\n",
      "got\n",
      "ready\n",
      "got\n",
      "ready\n",
      "got\n",
      "ready\n"
     ]
    },
    {
     "name": "stderr",
     "output_type": "stream",
     "text": [
      "wsgi exiting\n",
      "127.0.0.1 - - [18/Jan/2021 18:55:34] \"GET /socket.io/?EIO=4&transport=websocket HTTP/1.1\" 200 0 2481.562895\n",
      "(11340) wsgi exited, is_accepting=True\n"
     ]
    }
   ],
   "source": [
    "#testing, communicating with Unity3D\n",
    "dis_err=[]\n",
    "ang_err=[]\n",
    "ind=[]\n",
    "\n",
    "theta=[]\n",
    "ori=[]\n",
    "nx=[]\n",
    "ny=[]\n",
    "nz=[]\n",
    "\n",
    "movemsg = []\n",
    "tgtpos = []\n",
    "\n",
    "sio = socketio.Server()\n",
    "app = Flask(__name__)\n",
    "\n",
    "\n",
    "@sio.on('connect')\n",
    "def on_connect(sid, environ):    \n",
    "    print(\"connect \", sid)\n",
    "    send_to_client(101)\n",
    "\n",
    "\n",
    "@sio.on('client_sent')\n",
    "def on_revieve(sid, data):    \n",
    "    if data[\"f\"]==\"false\":\n",
    "        if data[\"move\"] == \"false\":\n",
    "            send_to_client('0')\n",
    "            a = data[\"imagel\"]\n",
    "            b = data[\"imager\"]\n",
    "            imgdata = base64.b64decode(a)\n",
    "            filename = 'm_img_l.jpg'  \n",
    "            with open(filename, 'wb') as f:\n",
    "                f.write(imgdata)\n",
    "            imgdata = base64.b64decode(b)\n",
    "            filename = 'm_img_r.jpg'  \n",
    "            with open(filename, 'wb') as f:\n",
    "                f.write(imgdata)\n",
    "            print('got')    \n",
    "            pro = retina_parallel('m_img_l.jpg','m_img_r.jpg')\n",
    "            c,d = pro.main()\n",
    "            _theta = [float(data[\"th1\"]),float(data[\"th2\"]),float(data[\"th3\"]),float(data[\"th4\"])]\n",
    "            if int(data[\"step\"]) ==0:\n",
    "                tgtpos.append(pro.find_one(c,d))\n",
    "                mv = kout(tgtpos[-1])\n",
    "            else: \n",
    "                tp,wp = pro.find_two(c,d,tgtpos[-1])\n",
    "                mv = 0.05*rwout(_theta,tp-wp)\n",
    "            movemsg.append(array_to_str(mv))\n",
    "            dis_err.append(float(data[\"err\"]))\n",
    "            ang_err.append(float(data[\"arr\"]))\n",
    "            ind.append(float(data[\"ntr\"]))\n",
    "            print(\"ready\")\n",
    "           \n",
    "        elif data[\"move\"]==\"true\":  \n",
    "            send_to_client(movemsg[-1])\n",
    "    elif data[\"f\"]==\"true\":\n",
    "        theta.append(np.array([float(data[\"0\"]),float(data[\"1\"]),float(data[\"2\"]),float(data[\"3\"]),float(data[\"4\"]),float(data[\"5\"]),float(data[\"6\"])]))\n",
    "        ori.append(data[\"7\"])\n",
    "        nx.append(data[\"8\"])\n",
    "        ny.append(data[\"9\"])\n",
    "        nz.append(data[\"10\"])\n",
    "    else:\n",
    "        print ('Recieved Empty Data!')\n",
    "\n",
    "\n",
    "def send_to_client(content):    \n",
    "    sio.emit(\n",
    "        'server_sent', \n",
    "        data = {'nbr':content}, \n",
    "        skip_sid=True)\n",
    "      \n",
    "if __name__ == '__main__':\n",
    "    app = socketio.Middleware(sio, app)\n",
    "    eventlet.wsgi.server(eventlet.listen(('', 4567)), app)\n"
   ]
  },
  {
   "cell_type": "code",
   "execution_count": 27,
   "metadata": {},
   "outputs": [],
   "source": [
    "#save test results\n",
    "df = pd.DataFrame({\"trial\":ind,\"dis\":dis_err,\"ang\":ang_err})\n",
    "#df = df[:-1]\n",
    "df.to_csv('testinfo_c2_ny_33.csv', index=False)"
   ]
  },
  {
   "cell_type": "code",
   "execution_count": 4,
   "metadata": {},
   "outputs": [],
   "source": [
    "#target positions during testing\n",
    "tp = genfromtxt('test_wrist_pos.csv', delimiter=',')"
   ]
  },
  {
   "cell_type": "code",
   "execution_count": 5,
   "metadata": {},
   "outputs": [],
   "source": [
    "#test data arrangement\n",
    "def dfarrange(add):\n",
    "    df = pd.read_csv(add)\n",
    "    ini=[]\n",
    "    end=[]\n",
    "    ang=[]\n",
    "    tfx=[]\n",
    "    fmv=[]\n",
    "    for i in set(df.trial):\n",
    "        ini.append(10*max(df[df.trial==i].dis))\n",
    "        end.append(10*min(df[df.trial==i].dis) if min(df[df.trial==i].dis)>=0 else 0)\n",
    "        ang.append(min(list(df[df.trial==i].ang)[1:]))\n",
    "        tfx.append(10*np.linalg.norm(tp[int(i)-1]-np.array([5.97,4.63,-1.32])))\n",
    "        if len(list(10*df[df.trial==i].dis))>1:\n",
    "            fmv.append(list(10*df[df.trial==i].dis)[1] if list(10*df[df.trial==i].dis)[1]>=0 else 0)\n",
    "        else:\n",
    "            fmv.append(list(10*df[df.trial==i].dis)[0] if list(10*df[df.trial==i].dis)[0]>=0 else 0)\n",
    "    df = pd.DataFrame({\"initial distance (cm)\":ini,\"Cartesian Error (cm)\":end,\"ending angular difference (°)\":ang, \"initial distance to fixation (cm)\": tfx, \"distance after 1st motion (cm)\":fmv})\n",
    "    df[\"initial distance (cm)\"]=(df[\"initial distance (cm)\"]//10)*10\n",
    "    df[\"initial distance to fixation (cm)\"]=(df[\"initial distance to fixation (cm)\"]//10)*10\n",
    "    df[\"curve\"] = add[add.find('_c')+2]\n",
    "    df[\"noise\"] = add[add.find('_n')+2:add.find('_n')+3]\n",
    "    df[\"train\"] = add[add.find('3.')-1:add.find('3.')+1]\n",
    "    df[\"group\"] = add[add.find('_n')+2:add.find('_n')+3]+add[add.find('3.')-1:add.find('3.')]+'/'+add[add.find('3.'):add.find('3.')+1]\n",
    "    return df"
   ]
  },
  {
   "cell_type": "code",
   "execution_count": 6,
   "metadata": {},
   "outputs": [],
   "source": [
    "addl = ['testinfo_c2_nn_13.csv','testinfo_c2_nn_23.csv','testinfo_c2_nn_33.csv',\n",
    "       'testinfo_c2_ny_13.csv','testinfo_c2_ny_23.csv','testinfo_c2_ny_33.csv']\n",
    "dftest = pd.DataFrame({})\n",
    "for _add in addl:\n",
    "    dftest = dftest.append(dfarrange(_add))"
   ]
  },
  {
   "cell_type": "code",
   "execution_count": null,
   "metadata": {},
   "outputs": [],
   "source": [
    "#data anaysis"
   ]
  },
  {
   "cell_type": "code",
   "execution_count": 12,
   "metadata": {},
   "outputs": [],
   "source": [
    "mpl.rcParams['ps.useafm'] = False\n",
    "mpl.rcParams['pdf.use14corefonts'] = False\n",
    "mpl.rcParams['text.usetex'] = False"
   ]
  },
  {
   "cell_type": "code",
   "execution_count": 6,
   "metadata": {},
   "outputs": [
    {
     "data": {
      "image/png": "[encoded data removed]",
      "text/plain": [
       "<Figure size 432x288 with 1 Axes>"
      ]
     },
     "metadata": {},
     "output_type": "display_data"
    }
   ],
   "source": [
    "sns.set_style(\"whitegrid\")\n",
    "ax=sns.boxplot(y=\"Cartesian Error (cm)\", x=\"group\", data=dftest,showfliers=False)\n",
    "for i in range(6):\n",
    "    mybox=ax.artists[i]\n",
    "    mybox.set_facecolor('white')\n",
    "    mybox.set_edgecolor(\"blue\")\n",
    "plt.savefig('res1.pdf', dpi=300)    "
   ]
  },
  {
   "cell_type": "code",
   "execution_count": 41,
   "metadata": {},
   "outputs": [],
   "source": [
    "F, p = stats.f_oneway(dftest.loc[dftest['group']=='n1/3',[\"Cartesian Error (cm)\"]].append(dftest.loc[dftest['group']=='y1/3',[\"Cartesian Error (cm)\"]])\n",
    "                      ,dftest.loc[dftest['group']=='n2/3',[\"Cartesian Error (cm)\"]].append(dftest.loc[dftest['group']=='y2/3',[\"Cartesian Error (cm)\"]])\n",
    "                     ,dftest.loc[dftest['group']=='n3/3',[\"Cartesian Error (cm)\"]].append(dftest.loc[dftest['group']=='y3/3',[\"Cartesian Error (cm)\"]]))\n",
    "F_test = stats.f.ppf((1-0.05), 2, 297)"
   ]
  },
  {
   "cell_type": "code",
   "execution_count": 42,
   "metadata": {},
   "outputs": [
    {
     "name": "stdout",
     "output_type": "stream",
     "text": [
      "[4.98426889] [0.00742837] 3.0261533685653728\n"
     ]
    }
   ],
   "source": [
    "print(F,p,F_test)"
   ]
  },
  {
   "cell_type": "code",
   "execution_count": 37,
   "metadata": {},
   "outputs": [
    {
     "data": {
      "text/html": [
       "<div>\n",
       "<style scoped>\n",
       "    .dataframe tbody tr th:only-of-type {\n",
       "        vertical-align: middle;\n",
       "    }\n",
       "\n",
       "    .dataframe tbody tr th {\n",
       "        vertical-align: top;\n",
       "    }\n",
       "\n",
       "    .dataframe thead th {\n",
       "        text-align: right;\n",
       "    }\n",
       "</style>\n",
       "<table border=\"1\" class=\"dataframe\">\n",
       "  <thead>\n",
       "    <tr style=\"text-align: right;\">\n",
       "      <th></th>\n",
       "      <th>count</th>\n",
       "      <th>mean</th>\n",
       "      <th>std</th>\n",
       "      <th>min</th>\n",
       "      <th>25%</th>\n",
       "      <th>50%</th>\n",
       "      <th>75%</th>\n",
       "      <th>max</th>\n",
       "    </tr>\n",
       "    <tr>\n",
       "      <th>group</th>\n",
       "      <th></th>\n",
       "      <th></th>\n",
       "      <th></th>\n",
       "      <th></th>\n",
       "      <th></th>\n",
       "      <th></th>\n",
       "      <th></th>\n",
       "      <th></th>\n",
       "    </tr>\n",
       "  </thead>\n",
       "  <tbody>\n",
       "    <tr>\n",
       "      <td>n1/3</td>\n",
       "      <td>50.0</td>\n",
       "      <td>6.148520</td>\n",
       "      <td>6.735143</td>\n",
       "      <td>0.0</td>\n",
       "      <td>0.0</td>\n",
       "      <td>3.537297</td>\n",
       "      <td>10.210185</td>\n",
       "      <td>24.37062</td>\n",
       "    </tr>\n",
       "    <tr>\n",
       "      <td>n2/3</td>\n",
       "      <td>50.0</td>\n",
       "      <td>4.548810</td>\n",
       "      <td>6.087737</td>\n",
       "      <td>0.0</td>\n",
       "      <td>0.0</td>\n",
       "      <td>0.667119</td>\n",
       "      <td>6.637255</td>\n",
       "      <td>20.36015</td>\n",
       "    </tr>\n",
       "    <tr>\n",
       "      <td>n3/3</td>\n",
       "      <td>50.0</td>\n",
       "      <td>3.281641</td>\n",
       "      <td>5.776538</td>\n",
       "      <td>0.0</td>\n",
       "      <td>0.0</td>\n",
       "      <td>0.162361</td>\n",
       "      <td>4.959662</td>\n",
       "      <td>27.37684</td>\n",
       "    </tr>\n",
       "    <tr>\n",
       "      <td>y1/3</td>\n",
       "      <td>50.0</td>\n",
       "      <td>8.805271</td>\n",
       "      <td>16.265022</td>\n",
       "      <td>0.0</td>\n",
       "      <td>0.0</td>\n",
       "      <td>6.006906</td>\n",
       "      <td>10.364917</td>\n",
       "      <td>89.13267</td>\n",
       "    </tr>\n",
       "    <tr>\n",
       "      <td>y2/3</td>\n",
       "      <td>50.0</td>\n",
       "      <td>4.408834</td>\n",
       "      <td>5.406545</td>\n",
       "      <td>0.0</td>\n",
       "      <td>0.0</td>\n",
       "      <td>0.998966</td>\n",
       "      <td>8.141579</td>\n",
       "      <td>17.92162</td>\n",
       "    </tr>\n",
       "    <tr>\n",
       "      <td>y3/3</td>\n",
       "      <td>50.0</td>\n",
       "      <td>4.465018</td>\n",
       "      <td>6.237031</td>\n",
       "      <td>0.0</td>\n",
       "      <td>0.0</td>\n",
       "      <td>1.120592</td>\n",
       "      <td>6.614898</td>\n",
       "      <td>24.12812</td>\n",
       "    </tr>\n",
       "  </tbody>\n",
       "</table>\n",
       "</div>"
      ],
      "text/plain": [
       "       count      mean        std  min  25%       50%        75%       max\n",
       "group                                                                     \n",
       "n1/3    50.0  6.148520   6.735143  0.0  0.0  3.537297  10.210185  24.37062\n",
       "n2/3    50.0  4.548810   6.087737  0.0  0.0  0.667119   6.637255  20.36015\n",
       "n3/3    50.0  3.281641   5.776538  0.0  0.0  0.162361   4.959662  27.37684\n",
       "y1/3    50.0  8.805271  16.265022  0.0  0.0  6.006906  10.364917  89.13267\n",
       "y2/3    50.0  4.408834   5.406545  0.0  0.0  0.998966   8.141579  17.92162\n",
       "y3/3    50.0  4.465018   6.237031  0.0  0.0  1.120592   6.614898  24.12812"
      ]
     },
     "execution_count": 37,
     "metadata": {},
     "output_type": "execute_result"
    }
   ],
   "source": [
    "dftest.groupby('group').describe()[\"Cartesian Error (cm)\"]"
   ]
  },
  {
   "cell_type": "code",
   "execution_count": 6,
   "metadata": {},
   "outputs": [],
   "source": [
    "df = dftest[dftest.noise=='n']"
   ]
  },
  {
   "cell_type": "code",
   "execution_count": 7,
   "metadata": {},
   "outputs": [],
   "source": [
    "a1 = list(df[df.train==\"13\"][\"distance after 1st motion (cm)\"])\n",
    "a2 = list(df[df.train==\"23\"][\"distance after 1st motion (cm)\"])\n",
    "a3 = list(df[df.train==\"33\"][\"distance after 1st motion (cm)\"])\n",
    "e1 = list(df[df.train==\"13\"][\"Cartesian Error (cm)\"])\n",
    "e2 = list(df[df.train==\"23\"][\"Cartesian Error (cm)\"])\n",
    "e3 = list(df[df.train==\"33\"][\"Cartesian Error (cm)\"])\n",
    "n1 = list(df[df.train==\"13\"][\"initial distance (cm)\"])\n",
    "n2 = list(df[df.train==\"23\"][\"initial distance (cm)\"])\n",
    "n3 = list(df[df.train==\"33\"][\"initial distance (cm)\"])\n",
    "d = a1+a2+a3+e1+e2+e3+n1+n2+n3\n",
    "t = (50*['1/3']+50*['2/3']+50*['3/3'])*3\n",
    "h = [\"PTN\"]*150+[\"PTN and DTN\"]*150+[\"Neither\"]*150"
   ]
  },
  {
   "cell_type": "code",
   "execution_count": 8,
   "metadata": {},
   "outputs": [],
   "source": [
    "df = pd.DataFrame({\"Average Cartesion Error(cm)\":d, \"Amount of Training\": t, \"Contribution\":h})"
   ]
  },
  {
   "cell_type": "code",
   "execution_count": 49,
   "metadata": {},
   "outputs": [],
   "source": [
    "F, p = stats.f_oneway(df.loc[df['Contribution']=='PTN',[\"Average Cartesion Error(cm)\"]]\n",
    "                      ,df.loc[df['Contribution']=='PTN and DTN',[\"Average Cartesion Error(cm)\"]])\n",
    "F_test = stats.f.ppf((1-0.05), 1, 298)"
   ]
  },
  {
   "cell_type": "code",
   "execution_count": 50,
   "metadata": {},
   "outputs": [
    {
     "name": "stdout",
     "output_type": "stream",
     "text": [
      "[37.15421165] [3.37229652e-09] 3.8728528114631797\n"
     ]
    }
   ],
   "source": [
    "print(F,p,F_test)"
   ]
  },
  {
   "cell_type": "code",
   "execution_count": 17,
   "metadata": {},
   "outputs": [
    {
     "data": {
      "image/png": "[encoded data removed]",
      "text/plain": [
       "<Figure size 432x288 with 1 Axes>"
      ]
     },
     "metadata": {
      "needs_background": "light"
     },
     "output_type": "display_data"
    }
   ],
   "source": [
    "sns.lineplot(x=\"Amount of Training\", y=\"Average Cartesion Error(cm)\", hue=\"Contribution\",data=df,markers=True,err_style=\"bars\")\n",
    "plt.savefig('res2.pdf', dpi=300) "
   ]
  },
  {
   "cell_type": "code",
   "execution_count": 12,
   "metadata": {},
   "outputs": [
    {
     "data": {
      "text/html": [
       "<div>\n",
       "<style scoped>\n",
       "    .dataframe tbody tr th:only-of-type {\n",
       "        vertical-align: middle;\n",
       "    }\n",
       "\n",
       "    .dataframe tbody tr th {\n",
       "        vertical-align: top;\n",
       "    }\n",
       "\n",
       "    .dataframe thead th {\n",
       "        text-align: right;\n",
       "    }\n",
       "</style>\n",
       "<table border=\"1\" class=\"dataframe\">\n",
       "  <thead>\n",
       "    <tr style=\"text-align: right;\">\n",
       "      <th></th>\n",
       "      <th>count</th>\n",
       "      <th>mean</th>\n",
       "      <th>std</th>\n",
       "      <th>min</th>\n",
       "      <th>25%</th>\n",
       "      <th>50%</th>\n",
       "      <th>75%</th>\n",
       "      <th>max</th>\n",
       "    </tr>\n",
       "    <tr>\n",
       "      <th>Contribution</th>\n",
       "      <th></th>\n",
       "      <th></th>\n",
       "      <th></th>\n",
       "      <th></th>\n",
       "      <th></th>\n",
       "      <th></th>\n",
       "      <th></th>\n",
       "      <th></th>\n",
       "    </tr>\n",
       "  </thead>\n",
       "  <tbody>\n",
       "    <tr>\n",
       "      <td>Neither</td>\n",
       "      <td>50.0</td>\n",
       "      <td>59.200000</td>\n",
       "      <td>12.910998</td>\n",
       "      <td>40.0</td>\n",
       "      <td>50.0</td>\n",
       "      <td>60.000000</td>\n",
       "      <td>70.000000</td>\n",
       "      <td>80.00000</td>\n",
       "    </tr>\n",
       "    <tr>\n",
       "      <td>PTN</td>\n",
       "      <td>50.0</td>\n",
       "      <td>15.885472</td>\n",
       "      <td>16.128677</td>\n",
       "      <td>0.0</td>\n",
       "      <td>0.0</td>\n",
       "      <td>12.919700</td>\n",
       "      <td>26.840697</td>\n",
       "      <td>49.49799</td>\n",
       "    </tr>\n",
       "    <tr>\n",
       "      <td>PTN and DTN</td>\n",
       "      <td>50.0</td>\n",
       "      <td>6.148520</td>\n",
       "      <td>6.735143</td>\n",
       "      <td>0.0</td>\n",
       "      <td>0.0</td>\n",
       "      <td>3.537297</td>\n",
       "      <td>10.210185</td>\n",
       "      <td>24.37062</td>\n",
       "    </tr>\n",
       "  </tbody>\n",
       "</table>\n",
       "</div>"
      ],
      "text/plain": [
       "              count       mean        std   min   25%        50%        75%  \\\n",
       "Contribution                                                                  \n",
       "Neither        50.0  59.200000  12.910998  40.0  50.0  60.000000  70.000000   \n",
       "PTN            50.0  15.885472  16.128677   0.0   0.0  12.919700  26.840697   \n",
       "PTN and DTN    50.0   6.148520   6.735143   0.0   0.0   3.537297  10.210185   \n",
       "\n",
       "                   max  \n",
       "Contribution            \n",
       "Neither       80.00000  \n",
       "PTN           49.49799  \n",
       "PTN and DTN   24.37062  "
      ]
     },
     "execution_count": 12,
     "metadata": {},
     "output_type": "execute_result"
    }
   ],
   "source": [
    "df[df[\"Amount of Training\"]=='1/3'].groupby(\"Contribution\").describe()[\"Average Cartesion Error(cm)\"]"
   ]
  },
  {
   "cell_type": "code",
   "execution_count": 51,
   "metadata": {},
   "outputs": [],
   "source": [
    "df1 = pd.read_csv('testinfo_ang_n.csv')\n",
    "df2 = pd.read_csv('testinfo_ang_r.csv')"
   ]
  },
  {
   "cell_type": "code",
   "execution_count": 52,
   "metadata": {},
   "outputs": [],
   "source": [
    "a=[]\n",
    "b=[]\n",
    "for i in range(1,51):\n",
    "    a.append(list(df1[df1.trial==i]['ang'])[-1])\n",
    "    b.append(list(df2[df2.trial==i]['ang'])[-1])\n",
    "df = pd.DataFrame({\"Angular Difference (°)\":a+b, \"Contribution\": [\"Posture controller not involved\"]*len(a)+[\"Posture controller involved\"]*len(b)})    "
   ]
  },
  {
   "cell_type": "code",
   "execution_count": 53,
   "metadata": {},
   "outputs": [],
   "source": [
    "F, p = stats.f_oneway(df.loc[df['Contribution']==\"Posture controller not involved\",[\"Angular Difference (°)\"]]\n",
    "                      ,df.loc[df['Contribution']==\"Posture controller involved\",[\"Angular Difference (°)\"]])\n",
    "F_test = stats.f.ppf((1-0.05), 1, 98)"
   ]
  },
  {
   "cell_type": "code",
   "execution_count": 54,
   "metadata": {},
   "outputs": [
    {
     "name": "stdout",
     "output_type": "stream",
     "text": [
      "[55.75654955] [3.41497811e-11] 3.938111078003371\n"
     ]
    }
   ],
   "source": [
    "print(F,p,F_test)"
   ]
  },
  {
   "cell_type": "code",
   "execution_count": 15,
   "metadata": {},
   "outputs": [
    {
     "data": {
      "image/png": "[encoded data removed]",
      "text/plain": [
       "<Figure size 432x288 with 1 Axes>"
      ]
     },
     "metadata": {},
     "output_type": "display_data"
    }
   ],
   "source": [
    "sns.set_style(\"whitegrid\")\n",
    "ax=sns.boxplot(y=\"Angular Difference (°)\", x=\"Contribution\", data=df,showfliers=False)\n",
    "for i in range(2):\n",
    "    mybox=ax.artists[i]\n",
    "    mybox.set_facecolor('white')\n",
    "    mybox.set_edgecolor(\"blue\")\n",
    "plt.savefig('res3.pdf', dpi=300)    "
   ]
  },
  {
   "cell_type": "code",
   "execution_count": 47,
   "metadata": {},
   "outputs": [
    {
     "data": {
      "text/html": [
       "<div>\n",
       "<style scoped>\n",
       "    .dataframe tbody tr th:only-of-type {\n",
       "        vertical-align: middle;\n",
       "    }\n",
       "\n",
       "    .dataframe tbody tr th {\n",
       "        vertical-align: top;\n",
       "    }\n",
       "\n",
       "    .dataframe thead th {\n",
       "        text-align: right;\n",
       "    }\n",
       "</style>\n",
       "<table border=\"1\" class=\"dataframe\">\n",
       "  <thead>\n",
       "    <tr style=\"text-align: right;\">\n",
       "      <th></th>\n",
       "      <th>count</th>\n",
       "      <th>mean</th>\n",
       "      <th>std</th>\n",
       "      <th>min</th>\n",
       "      <th>25%</th>\n",
       "      <th>50%</th>\n",
       "      <th>75%</th>\n",
       "      <th>max</th>\n",
       "    </tr>\n",
       "    <tr>\n",
       "      <th>Contribution</th>\n",
       "      <th></th>\n",
       "      <th></th>\n",
       "      <th></th>\n",
       "      <th></th>\n",
       "      <th></th>\n",
       "      <th></th>\n",
       "      <th></th>\n",
       "      <th></th>\n",
       "    </tr>\n",
       "  </thead>\n",
       "  <tbody>\n",
       "    <tr>\n",
       "      <td>Posture controller involved</td>\n",
       "      <td>50.0</td>\n",
       "      <td>25.490985</td>\n",
       "      <td>19.543245</td>\n",
       "      <td>1.163652</td>\n",
       "      <td>12.067258</td>\n",
       "      <td>18.625975</td>\n",
       "      <td>36.313965</td>\n",
       "      <td>84.73064</td>\n",
       "    </tr>\n",
       "    <tr>\n",
       "      <td>Posture controller not involved</td>\n",
       "      <td>50.0</td>\n",
       "      <td>57.203759</td>\n",
       "      <td>22.801946</td>\n",
       "      <td>6.796244</td>\n",
       "      <td>42.304645</td>\n",
       "      <td>58.356715</td>\n",
       "      <td>73.299310</td>\n",
       "      <td>106.69400</td>\n",
       "    </tr>\n",
       "  </tbody>\n",
       "</table>\n",
       "</div>"
      ],
      "text/plain": [
       "                                 count       mean        std       min  \\\n",
       "Contribution                                                             \n",
       "Posture controller involved       50.0  25.490985  19.543245  1.163652   \n",
       "Posture controller not involved   50.0  57.203759  22.801946  6.796244   \n",
       "\n",
       "                                       25%        50%        75%        max  \n",
       "Contribution                                                                 \n",
       "Posture controller involved      12.067258  18.625975  36.313965   84.73064  \n",
       "Posture controller not involved  42.304645  58.356715  73.299310  106.69400  "
      ]
     },
     "execution_count": 47,
     "metadata": {},
     "output_type": "execute_result"
    }
   ],
   "source": [
    "df.groupby(\"Contribution\").describe()[\"Angular Difference (°)\"]"
   ]
  },
  {
   "cell_type": "code",
   "execution_count": null,
   "metadata": {},
   "outputs": [],
   "source": []
  }
 ],
 "metadata": {
  "kernelspec": {
   "display_name": "Python 3",
   "language": "python",
   "name": "python3"
  },
  "language_info": {
   "codemirror_mode": {
    "name": "ipython",
    "version": 3
   },
   "file_extension": ".py",
   "mimetype": "text/x-python",
   "name": "python",
   "nbconvert_exporter": "python",
   "pygments_lexer": "ipython3",
   "version": "3.7.4"
  }
 },
 "nbformat": 4,
 "nbformat_minor": 2
}
